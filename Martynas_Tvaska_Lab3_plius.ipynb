{
 "cells": [
  {
   "cell_type": "markdown",
   "metadata": {},
   "source": [
    "# Setup"
   ]
  },
  {
   "cell_type": "code",
   "execution_count": 65,
   "metadata": {},
   "outputs": [],
   "source": [
    "from __future__ import print_function\n",
    "from ipywidgets import interact, interactive, fixed, interact_manual\n",
    "import ipywidgets as widgets\n",
    "import numpy as np\n",
    "import skfuzzy.membership as mf\n",
    "import skfuzzy as fuzz\n",
    "import matplotlib.pyplot as plt "
   ]
  },
  {
   "cell_type": "code",
   "execution_count": 66,
   "metadata": {},
   "outputs": [],
   "source": [
    "x_maistas = np.arange(0, 100, 1)\n",
    "x_restoranas = np.arange(0, 50, 1)\n",
    "x_aptarnavimas = np.arange(0, 100, 1)\n",
    "y_arbatpinigiai = np.arange(0, 25, 1)\n",
    "maistas_neskanus = mf.trapmf(x_maistas, [0, 0, 35, 45])\n",
    "maistas_skanus = mf.trapmf(x_maistas, [30, 50, 70, 85])\n",
    "maistas_tobulas = mf.trapmf(x_maistas, [75, 90, 100,100])\n",
    "restoranas_blogas = mf.trapmf(x_restoranas, [0, 0, 25, 30])\n",
    "restoranas_neutralus = mf.trapmf(x_restoranas, [20, 30, 35, 40])\n",
    "restoranas_geras = mf.trapmf(x_restoranas, [35, 40, 50, 50])\n",
    "aptarnavimas_prastas = mf.trapmf(x_aptarnavimas, [0, 0, 35, 45])\n",
    "aptarnavimas_vidutinis = mf.trapmf(x_aptarnavimas, [30, 45, 55, 65])\n",
    "aptarnavimas_geras = mf.trapmf(x_aptarnavimas, [55, 65, 100, 100])\n",
    "arbatpinigiai_mazai = fuzz.trimf(y_arbatpinigiai, [0, 0, 13])\n",
    "arbatpinigiai_normaliai = fuzz.trimf(y_arbatpinigiai, [0, 13, 25])\n",
    "arbatpinigiai_daug = fuzz.trimf(y_arbatpinigiai, [13, 25, 25])"
   ]
  },
  {
   "cell_type": "code",
   "execution_count": 67,
   "metadata": {},
   "outputs": [],
   "source": [
    "def Rules(mais_neskanus, mais_skanus, mais_tobulas, res_blogas, res_geras, apt_prastas, apt_vidutinis, apt_geras):\n",
    "    rule1 =  apt_prastas\n",
    "    rule2 =  np.fmin(apt_vidutinis, np.fmin(mais_neskanus, 1-res_geras))\n",
    "    rule3 =  np.fmin(res_blogas, np.fmin(mais_skanus, apt_vidutinis))\n",
    "    high_probability = np.fmax(rule1, np.fmax(rule2, rule3))\n",
    "    rule4 =  np.fmin(apt_geras, np.fmin(res_blogas, 1-mais_tobulas))\n",
    "    rule5 =  np.fmin(mais_tobulas, np.fmin(res_blogas,apt_vidutinis))\n",
    "    rule6 =  np.fmin(mais_neskanus, np.fmin(1-res_blogas,1-apt_prastas))\n",
    "    small_probability = np.fmax(rule4, np.fmax(rule5,rule6))\n",
    "    rule7 =  np.fmin(mais_tobulas, np.fmin(res_blogas,apt_geras))\n",
    "    rule8 =  np.fmin(1-mais_neskanus, np.fmin(1-apt_prastas,1-res_blogas))\n",
    "    average_probability = np.fmax(rule7, rule8)\n",
    "    arbatos_palikti_mazai = np.fmin(high_probability, arbatpinigiai_mazai)\n",
    "    arbatos_palikti_daug = np.fmin(average_probability, arbatpinigiai_daug)\n",
    "    arbatos_palikti_normaliai = np.fmin(small_probability, arbatpinigiai_normaliai)\n",
    "    return arbatos_palikti_mazai,arbatos_palikti_daug,arbatos_palikti_normaliai"
   ]
  },
  {
   "cell_type": "code",
   "execution_count": 68,
   "metadata": {},
   "outputs": [],
   "source": [
    "def implikacija(input_maistas,input_restoranas,input_aptarnavimas):\n",
    "    mais_neskanus = fuzz.interp_membership(x_maistas,maistas_neskanus, input_maistas) \n",
    "    mais_skanus = fuzz.interp_membership(x_maistas,maistas_skanus, input_maistas) \n",
    "    mais_tobulas = fuzz.interp_membership(x_maistas,maistas_tobulas, input_maistas)\n",
    "    res_blogas = fuzz.interp_membership(x_restoranas,restoranas_blogas, input_restoranas)\n",
    "    res_neutralus = fuzz.interp_membership(x_restoranas,restoranas_neutralus, input_restoranas) \n",
    "    res_geras = fuzz.interp_membership(x_restoranas,restoranas_geras, input_restoranas)\n",
    "    apt_prastas = fuzz.interp_membership(x_aptarnavimas,aptarnavimas_prastas, input_aptarnavimas)\n",
    "    apt_vidutinis = fuzz.interp_membership(x_aptarnavimas,aptarnavimas_vidutinis, input_aptarnavimas) \n",
    "    apt_geras = fuzz.interp_membership(x_aptarnavimas,aptarnavimas_geras, input_aptarnavimas)\n",
    "    arbatos_palikti_mazai, arbatos_palikti_daug, arbatos_palikti_normaliai = Rules(\n",
    "        mais_neskanus, mais_skanus, mais_tobulas, res_blogas, res_geras, apt_prastas, apt_vidutinis, apt_geras)\n",
    "    arbatpinigiai = np.zeros_like(y_arbatpinigiai)\n",
    "    aggregated = np.fmax(arbatos_palikti_mazai, np.fmax(arbatos_palikti_normaliai, arbatos_palikti_daug))\n",
    "    arbata_centroid = fuzz.defuzz(y_arbatpinigiai, aggregated, 'centroid') \n",
    "    arbata_bisector = fuzz.defuzz(y_arbatpinigiai, aggregated, 'bisector') \n",
    "    arbata_mom = fuzz.defuzz(y_arbatpinigiai, aggregated, 'mom') \n",
    "    arbata_aktyvavimas = fuzz.interp_membership(y_arbatpinigiai, aggregated, arbata_centroid)\n",
    "    fig, ax0 = plt.subplots(figsize=(8, 3)) \n",
    "    ax0.plot(y_arbatpinigiai, arbatpinigiai_mazai, 'red', linewidth=1, linestyle='--', ) \n",
    "    ax0.plot(y_arbatpinigiai, arbatpinigiai_normaliai, 'yellow', linewidth=1, linestyle='--') \n",
    "    ax0.plot(y_arbatpinigiai, arbatpinigiai_daug, 'green', linewidth=1, linestyle='--') \n",
    "    ax0.fill_between(y_arbatpinigiai, arbatpinigiai, aggregated, facecolor='purple', alpha=0.7) \n",
    "    ax0.plot([arbata_centroid, arbata_centroid], [0, arbata_aktyvavimas], 'black', linewidth=1.5, alpha=0.9) \n",
    "    ax0.plot([arbata_bisector, arbata_bisector], [0, arbata_aktyvavimas], 'blue', linewidth=1.5, alpha=0.9) \n",
    "    ax0.plot([arbata_mom, arbata_mom], [0, 0.4], 'cyan', linewidth=1.5, alpha=0.9) \n",
    "    ax0.set_title('Defuzifikacijos rezultatai') \n",
    "    # Turn off top/right axes \n",
    "    for ax in (ax0,): ax.spines['top'].set_visible(False) \n",
    "    ax.spines['right'].set_visible(False) \n",
    "    ax.get_xaxis().tick_bottom() \n",
    "    ax.get_yaxis().tick_left()\n",
    "    plt.tight_layout()\n",
    "\n",
    "    print(\"Maisto kokybė: \", mais_neskanus, mais_skanus, mais_tobulas)\n",
    "    print(\"Restorano ivertinimas: \", res_blogas, res_neutralus, res_geras)\n",
    "    print(\"Aptarnavimo kokybe: \", apt_prastas, apt_vidutinis, apt_geras)\n"
   ]
  },
  {
   "cell_type": "markdown",
   "metadata": {},
   "source": [
    "# Start"
   ]
  },
  {
   "cell_type": "code",
   "execution_count": 69,
   "metadata": {},
   "outputs": [
    {
     "data": {
      "application/vnd.jupyter.widget-view+json": {
       "model_id": "2d79016b5ba64b5685a6bd56a4d4df76",
       "version_major": 2,
       "version_minor": 0
      },
      "text/plain": [
       "interactive(children=(IntSlider(value=50, description='input_maistas', max=99), IntSlider(value=25, descriptio…"
      ]
     },
     "metadata": {},
     "output_type": "display_data"
    }
   ],
   "source": [
    "interact(implikacija,\n",
    "input_maistas=widgets.IntSlider(min=0, max=99, step=1, value=50),\n",
    "input_restoranas=widgets.IntSlider(min=0, max=50, step=1, value=25),\n",
    "input_aptarnavimas=widgets.IntSlider(min=0, max=99, step=1, value=50));"
   ]
  },
  {
   "cell_type": "code",
   "execution_count": null,
   "metadata": {},
   "outputs": [],
   "source": []
  }
 ],
 "metadata": {
  "kernelspec": {
   "display_name": "Python 3.10.8 64-bit",
   "language": "python",
   "name": "python3"
  },
  "language_info": {
   "codemirror_mode": {
    "name": "ipython",
    "version": 3
   },
   "file_extension": ".py",
   "mimetype": "text/x-python",
   "name": "python",
   "nbconvert_exporter": "python",
   "pygments_lexer": "ipython3",
   "version": "3.10.8"
  },
  "orig_nbformat": 4,
  "vscode": {
   "interpreter": {
    "hash": "b0fa6594d8f4cbf19f97940f81e996739fb7646882a419484c72d19e05852a7e"
   }
  }
 },
 "nbformat": 4,
 "nbformat_minor": 2
}
